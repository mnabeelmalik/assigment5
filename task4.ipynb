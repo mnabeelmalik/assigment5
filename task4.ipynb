{
 "cells": [
  {
   "cell_type": "code",
   "execution_count": 8,
   "metadata": {},
   "outputs": [
    {
     "name": "stdout",
     "output_type": "stream",
     "text": [
      "Yes it is palindrome\n"
     ]
    }
   ],
   "source": [
    "def palind(data):\n",
    "    left_p = 0\n",
    "    right_p = len(data) - 1\n",
    "    \n",
    "    while right_p >= left_p:\n",
    "        if not data[left_p] == data[right_p]:\n",
    "            return \"NO\"\n",
    "        left_p += 1\n",
    "        right_p -= 1\n",
    "    return \"Yes it is palindrome\"\n",
    "print(palind('MAHAM')) "
   ]
  },
  {
   "cell_type": "code",
   "execution_count": null,
   "metadata": {},
   "outputs": [],
   "source": []
  }
 ],
 "metadata": {
  "kernelspec": {
   "display_name": "Python 3",
   "language": "python",
   "name": "python3"
  },
  "language_info": {
   "codemirror_mode": {
    "name": "ipython",
    "version": 3
   },
   "file_extension": ".py",
   "mimetype": "text/x-python",
   "name": "python",
   "nbconvert_exporter": "python",
   "pygments_lexer": "ipython3",
   "version": "3.7.4"
  }
 },
 "nbformat": 4,
 "nbformat_minor": 2
}
