{
 "cells": [
  {
   "cell_type": "code",
   "execution_count": 1,
   "metadata": {},
   "outputs": [
    {
     "name": "stdout",
     "output_type": "stream",
     "text": [
      "NabeeL\n",
      "QT. Upper Case Letters :  2\n",
      "QT. Lower Case Letters :  4\n"
     ]
    }
   ],
   "source": [
    "def abc(q):\n",
    "    b={\"UPPER_C\":0, \"LOWER_C\":0}\n",
    "    for p in q:\n",
    "        if p.isupper():\n",
    "           b[\"UPPER_C\"]+=1\n",
    "        elif p.islower():\n",
    "           b[\"LOWER_C\"]+=1\n",
    "        else:\n",
    "           pass\n",
    "    print (\"QT. Upper Case Letters : \", b[\"UPPER_C\"])\n",
    "    print (\"QT. Lower Case Letters : \", b[\"LOWER_C\"])\n",
    "ab=input()\n",
    "abc(ab)"
   ]
  },
  {
   "cell_type": "code",
   "execution_count": null,
   "metadata": {},
   "outputs": [],
   "source": []
  }
 ],
 "metadata": {
  "kernelspec": {
   "display_name": "Python 3",
   "language": "python",
   "name": "python3"
  },
  "language_info": {
   "codemirror_mode": {
    "name": "ipython",
    "version": 3
   },
   "file_extension": ".py",
   "mimetype": "text/x-python",
   "name": "python",
   "nbconvert_exporter": "python",
   "pygments_lexer": "ipython3",
   "version": "3.7.4"
  }
 },
 "nbformat": 4,
 "nbformat_minor": 2
}
